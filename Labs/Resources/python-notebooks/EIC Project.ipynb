{
 "cells": [
  {
   "cell_type": "code",
   "execution_count": 684,
   "id": "a22c69f1",
   "metadata": {},
   "outputs": [],
   "source": [
    "import warnings\n",
    "import pandas as pd; warnings.simplefilter(action='ignore',category=FutureWarning)\n",
    "\n",
    "# Reading in the datasets\n",
    "channel_transactions = pd.read_csv(\"C:\\\\Labs\\\\Resources\\\\team-project\\\\transactions.csv\")\n",
    "channel_touchpoints = pd.read_csv(\"C:\\\\Labs\\\\Resources\\\\team-project\\\\customer_touchpoints.csv\")\n",
    "channel_customers = pd.read_csv(\"C:\\\\Labs\\\\Resources\\\\team-project\\\\customers.csv\")\n",
    "channel_marketing_spend = pd.read_csv(\"C:\\\\Labs\\\\Resources\\\\team-project\\\\marketing_spend.csv\")\n",
    "channel_marketing_campaigns = pd.read_csv(\"C:\\\\Labs\\\\Resources\\\\team-project\\\\marketing_campaigns.csv\")\n",
    "channel_stores = pd.read_csv(\"C:\\\\Labs\\\\Resources\\\\team-project\\\\stores.csv\")\n",
    "\n"
   ]
  },
  {
   "cell_type": "markdown",
   "id": "a966e46c",
   "metadata": {},
   "source": [
    "# Data Cleaning"
   ]
  },
  {
   "cell_type": "markdown",
   "id": "a3eadc47",
   "metadata": {},
   "source": [
    "## Transactions"
   ]
  },
  {
   "cell_type": "code",
   "execution_count": 685,
   "id": "a106619c",
   "metadata": {},
   "outputs": [
    {
     "data": {
      "text/html": [
       "<div>\n",
       "<style scoped>\n",
       "    .dataframe tbody tr th:only-of-type {\n",
       "        vertical-align: middle;\n",
       "    }\n",
       "\n",
       "    .dataframe tbody tr th {\n",
       "        vertical-align: top;\n",
       "    }\n",
       "\n",
       "    .dataframe thead th {\n",
       "        text-align: right;\n",
       "    }\n",
       "</style>\n",
       "<table border=\"1\" class=\"dataframe\">\n",
       "  <thead>\n",
       "    <tr style=\"text-align: right;\">\n",
       "      <th></th>\n",
       "      <th>transaction_id</th>\n",
       "      <th>customer_id</th>\n",
       "      <th>order_date</th>\n",
       "      <th>channel</th>\n",
       "      <th>store_id</th>\n",
       "      <th>payment_method</th>\n",
       "      <th>card_bank</th>\n",
       "      <th>subtotal</th>\n",
       "      <th>discount_amount</th>\n",
       "      <th>tax_amount</th>\n",
       "      <th>shipping_amount</th>\n",
       "      <th>total_amount</th>\n",
       "      <th>promo_code_used</th>\n",
       "      <th>device_type</th>\n",
       "      <th>fulfillment_method</th>\n",
       "      <th>return_flag</th>\n",
       "    </tr>\n",
       "  </thead>\n",
       "  <tbody>\n",
       "  </tbody>\n",
       "</table>\n",
       "</div>"
      ],
      "text/plain": [
       "Empty DataFrame\n",
       "Columns: [transaction_id, customer_id, order_date, channel, store_id, payment_method, card_bank, subtotal, discount_amount, tax_amount, shipping_amount, total_amount, promo_code_used, device_type, fulfillment_method, return_flag]\n",
       "Index: []"
      ]
     },
     "execution_count": 685,
     "metadata": {},
     "output_type": "execute_result"
    }
   ],
   "source": [
    "channel_transactions.loc[channel_transactions.duplicated()]\n",
    "## channel_transactions.drop_duplicates(keep = 'first', inplace = True) \n",
    "\n"
   ]
  },
  {
   "cell_type": "code",
   "execution_count": 686,
   "id": "4eb5cdb8",
   "metadata": {},
   "outputs": [
    {
     "data": {
      "text/plain": [
       "transaction_id         0\n",
       "customer_id            0\n",
       "order_date             0\n",
       "channel                0\n",
       "store_id              29\n",
       "payment_method         0\n",
       "card_bank             41\n",
       "subtotal               0\n",
       "discount_amount        0\n",
       "tax_amount             0\n",
       "shipping_amount        3\n",
       "total_amount           0\n",
       "promo_code_used       26\n",
       "device_type           16\n",
       "fulfillment_method     0\n",
       "return_flag            0\n",
       "dtype: int64"
      ]
     },
     "execution_count": 686,
     "metadata": {},
     "output_type": "execute_result"
    }
   ],
   "source": [
    "channel_transactions.isnull().sum()\n"
   ]
  },
  {
   "cell_type": "code",
   "execution_count": 687,
   "id": "1449c48f",
   "metadata": {},
   "outputs": [
    {
     "data": {
      "text/plain": [
       "transaction_id        0\n",
       "customer_id           0\n",
       "order_date            0\n",
       "channel               0\n",
       "store_id              0\n",
       "payment_method        0\n",
       "subtotal              0\n",
       "discount_amount       0\n",
       "tax_amount            0\n",
       "shipping_amount       0\n",
       "total_amount          0\n",
       "promo_code_used       0\n",
       "device_type           0\n",
       "fulfillment_method    0\n",
       "return_flag           0\n",
       "dtype: int64"
      ]
     },
     "execution_count": 687,
     "metadata": {},
     "output_type": "execute_result"
    }
   ],
   "source": [
    "cln_df_trans = channel_transactions.copy() #creates a copy\n",
    "cln_df_trans['device_type'].fillna('Store', inplace=True)\n",
    "cln_df_trans['promo_code_used'].fillna('None', inplace=True)\n",
    "cln_df_trans.fillna({'shipping_amount':cln_df_trans.shipping_amount.mode()[0]},inplace=True)\n",
    "cln_df_trans.drop(columns=[\"card_bank\"], inplace=True)\n",
    "cln_df_trans['store_id'].fillna(0, inplace=True) #check if you can do string \n",
    "cln_df_trans.isnull().sum()\n"
   ]
  },
  {
   "cell_type": "code",
   "execution_count": 688,
   "id": "f8198852",
   "metadata": {},
   "outputs": [
    {
     "name": "stdout",
     "output_type": "stream",
     "text": [
      "<class 'pandas.core.frame.DataFrame'>\n",
      "RangeIndex: 45 entries, 0 to 44\n",
      "Data columns (total 15 columns):\n",
      " #   Column              Non-Null Count  Dtype  \n",
      "---  ------              --------------  -----  \n",
      " 0   transaction_id      45 non-null     int64  \n",
      " 1   customer_id         45 non-null     int64  \n",
      " 2   order_date          45 non-null     object \n",
      " 3   channel             45 non-null     object \n",
      " 4   store_id            45 non-null     float64\n",
      " 5   payment_method      45 non-null     object \n",
      " 6   subtotal            45 non-null     float64\n",
      " 7   discount_amount     45 non-null     float64\n",
      " 8   tax_amount          45 non-null     float64\n",
      " 9   shipping_amount     45 non-null     float64\n",
      " 10  total_amount        45 non-null     float64\n",
      " 11  promo_code_used     45 non-null     object \n",
      " 12  device_type         45 non-null     object \n",
      " 13  fulfillment_method  45 non-null     object \n",
      " 14  return_flag         45 non-null     bool   \n",
      "dtypes: bool(1), float64(6), int64(2), object(6)\n",
      "memory usage: 5.1+ KB\n"
     ]
    }
   ],
   "source": [
    "cln_df_trans.info()"
   ]
  },
  {
   "cell_type": "code",
   "execution_count": 689,
   "id": "121ad2b6",
   "metadata": {},
   "outputs": [],
   "source": [
    "# cln_df_trans['store_id'] = cln_df_trans['store_id'].astype(float)\n",
    "\n",
    "cln_df_trans = cln_df_trans.astype({\n",
    "    'transaction_id': 'string',\n",
    "    'customer_id': 'string',\n",
    "    'store_id': int,\n",
    "    'promo_code_used': 'string',\n",
    "    'channel': 'category',\n",
    "    'payment_method': 'category',\n",
    "    'device_type': 'category',\n",
    "    'fulfillment_method': 'category'\n",
    "})\n",
    "\n",
    "cln_df_trans['store_id'] = cln_df_trans['store_id'].astype('string')\n",
    "\n",
    "cln_df_trans['order_date'] = pd.to_datetime(cln_df_trans['order_date'], format='%m/%d/%y %H:%M')\n"
   ]
  },
  {
   "cell_type": "code",
   "execution_count": 690,
   "id": "17a8ea70",
   "metadata": {},
   "outputs": [
    {
     "name": "stdout",
     "output_type": "stream",
     "text": [
      "\n",
      "CHANNEL:\n",
      "  Unique list: ['Online', 'Store', 'Mobile App']\n",
      "\n",
      "PAYMENT_METHOD:\n",
      "  Unique list: ['Credit Card', 'Credit Cards', 'PayPal', 'Apple Pay', 'credit card', 'Cash', 'Debit Card', 'Google Pay', 'CC']\n",
      "\n",
      "DEVICE_TYPE:\n",
      "  Unique list: ['Mobile', 'Store', 'Desktop']\n",
      "\n",
      "FULFILLMENT_METHOD:\n",
      "  Unique list: ['Ship', 'In-Store', 'BOPIS']\n"
     ]
    }
   ],
   "source": [
    "# Analyse categorical columns uniqueness\n",
    "trans_cat_cols = ['channel', 'payment_method', 'device_type', 'fulfillment_method']\n",
    "\n",
    "for col in trans_cat_cols:\n",
    "    print(f\"\\n{col.upper()}:\")\n",
    "    # print(f\"  Unique values: {cln_df_trans[col].nunique()}\")\n",
    "    print(f\"  Unique list: {cln_df_trans[col].unique().tolist()}\")\n",
    "    # print(f\"\\n  Value counts:\")\n",
    "    # print(cln_df_trans[col].value_counts())"
   ]
  },
  {
   "cell_type": "code",
   "execution_count": 691,
   "id": "56526845",
   "metadata": {},
   "outputs": [],
   "source": [
    "# Convert to lowercase and strip whitespace\n",
    "cln_df_trans['payment_method'] = cln_df_trans['payment_method'].str.lower().str.strip()\n",
    "\n",
    "# Map variations to standardized labels\n",
    "cln_df_trans['payment_method'] = cln_df_trans['payment_method'].replace({\n",
    "    'credit card': 'Credit Card',\n",
    "    'credit cards': 'Credit Card',\n",
    "    'cc': 'Credit Card',\n",
    "    'debit card': 'Debit Card',\n",
    "    'paypal': 'PayPal',\n",
    "    'apple pay': 'Apple Pay',\n",
    "    'google pay': 'Google Pay',\n",
    "    'cash': 'Cash'\n",
    "})"
   ]
  },
  {
   "cell_type": "markdown",
   "id": "25733d01",
   "metadata": {},
   "source": [
    "## Touchpoints"
   ]
  },
  {
   "cell_type": "code",
   "execution_count": 692,
   "id": "25242d3c",
   "metadata": {},
   "outputs": [
    {
     "data": {
      "text/html": [
       "<div>\n",
       "<style scoped>\n",
       "    .dataframe tbody tr th:only-of-type {\n",
       "        vertical-align: middle;\n",
       "    }\n",
       "\n",
       "    .dataframe tbody tr th {\n",
       "        vertical-align: top;\n",
       "    }\n",
       "\n",
       "    .dataframe thead th {\n",
       "        text-align: right;\n",
       "    }\n",
       "</style>\n",
       "<table border=\"1\" class=\"dataframe\">\n",
       "  <thead>\n",
       "    <tr style=\"text-align: right;\">\n",
       "      <th></th>\n",
       "      <th>touchpoint_id</th>\n",
       "      <th>customer_id</th>\n",
       "      <th>session_id</th>\n",
       "      <th>touchpoint_timestamp</th>\n",
       "      <th>touchpoint_type</th>\n",
       "      <th>channel</th>\n",
       "      <th>campaign_id</th>\n",
       "      <th>referrer_source</th>\n",
       "      <th>landing_page</th>\n",
       "      <th>pages_viewed</th>\n",
       "      <th>products_viewed</th>\n",
       "      <th>cart_additions</th>\n",
       "      <th>cart_value</th>\n",
       "      <th>converted_flag</th>\n",
       "      <th>transaction_id</th>\n",
       "      <th>device_type</th>\n",
       "      <th>store_id</th>\n",
       "    </tr>\n",
       "  </thead>\n",
       "  <tbody>\n",
       "  </tbody>\n",
       "</table>\n",
       "</div>"
      ],
      "text/plain": [
       "Empty DataFrame\n",
       "Columns: [touchpoint_id, customer_id, session_id, touchpoint_timestamp, touchpoint_type, channel, campaign_id, referrer_source, landing_page, pages_viewed, products_viewed, cart_additions, cart_value, converted_flag, transaction_id, device_type, store_id]\n",
       "Index: []"
      ]
     },
     "execution_count": 692,
     "metadata": {},
     "output_type": "execute_result"
    }
   ],
   "source": [
    "channel_touchpoints.loc[channel_touchpoints.duplicated()]"
   ]
  },
  {
   "cell_type": "code",
   "execution_count": 693,
   "id": "f6fd2dd1",
   "metadata": {},
   "outputs": [
    {
     "data": {
      "text/plain": [
       "touchpoint_id            0\n",
       "customer_id              0\n",
       "session_id               0\n",
       "touchpoint_timestamp     0\n",
       "touchpoint_type          0\n",
       "channel                  0\n",
       "campaign_id             12\n",
       "referrer_source          5\n",
       "landing_page             8\n",
       "pages_viewed             8\n",
       "products_viewed          8\n",
       "cart_additions           0\n",
       "cart_value               0\n",
       "converted_flag           0\n",
       "transaction_id           8\n",
       "device_type              5\n",
       "store_id                22\n",
       "dtype: int64"
      ]
     },
     "execution_count": 693,
     "metadata": {},
     "output_type": "execute_result"
    }
   ],
   "source": [
    "channel_touchpoints.isnull().sum()"
   ]
  },
  {
   "cell_type": "code",
   "execution_count": 694,
   "id": "66741c56",
   "metadata": {},
   "outputs": [
    {
     "data": {
      "text/plain": [
       "touchpoint_id           0\n",
       "customer_id             0\n",
       "session_id              0\n",
       "touchpoint_timestamp    0\n",
       "touchpoint_type         0\n",
       "channel                 0\n",
       "campaign_id             0\n",
       "referrer_source         0\n",
       "landing_page            0\n",
       "pages_viewed            0\n",
       "products_viewed         0\n",
       "cart_additions          0\n",
       "cart_value              0\n",
       "converted_flag          0\n",
       "transaction_id          0\n",
       "device_type             0\n",
       "store_id                0\n",
       "dtype: int64"
      ]
     },
     "execution_count": 694,
     "metadata": {},
     "output_type": "execute_result"
    }
   ],
   "source": [
    "cln_df_touchpoints = channel_touchpoints.copy()\n",
    "cln_df_touchpoints['campaign_id'].fillna(0, inplace = True)\n",
    "cln_df_touchpoints['referrer_source'].fillna('Walk In', inplace = True)\n",
    "cln_df_touchpoints['landing_page'].fillna('NA', inplace = True)\n",
    "cln_df_touchpoints['pages_viewed'].fillna((cln_df_touchpoints['pages_viewed'].median()), inplace = True)\n",
    "cln_df_touchpoints['products_viewed'].fillna('None', inplace = True)\n",
    "cln_df_touchpoints['transaction_id'].fillna(0, inplace = True)\n",
    "cln_df_touchpoints['device_type'].fillna('Store', inplace = True)\n",
    "cln_df_touchpoints['store_id'].fillna(0, inplace = True)\n",
    "cln_df_touchpoints.isnull().sum()"
   ]
  },
  {
   "cell_type": "code",
   "execution_count": 698,
   "id": "f4766b57",
   "metadata": {},
   "outputs": [
    {
     "name": "stdout",
     "output_type": "stream",
     "text": [
      "<class 'pandas.core.frame.DataFrame'>\n",
      "RangeIndex: 27 entries, 0 to 26\n",
      "Data columns (total 17 columns):\n",
      " #   Column                Non-Null Count  Dtype         \n",
      "---  ------                --------------  -----         \n",
      " 0   touchpoint_id         27 non-null     string        \n",
      " 1   customer_id           27 non-null     string        \n",
      " 2   session_id            27 non-null     string        \n",
      " 3   touchpoint_timestamp  27 non-null     datetime64[ns]\n",
      " 4   touchpoint_type       27 non-null     category      \n",
      " 5   channel               27 non-null     category      \n",
      " 6   campaign_id           27 non-null     string        \n",
      " 7   referrer_source       27 non-null     category      \n",
      " 8   landing_page          27 non-null     object        \n",
      " 9   pages_viewed          27 non-null     int64         \n",
      " 10  products_viewed       27 non-null     object        \n",
      " 11  cart_additions        27 non-null     int64         \n",
      " 12  cart_value            27 non-null     float64       \n",
      " 13  converted_flag        27 non-null     bool          \n",
      " 14  transaction_id        27 non-null     string        \n",
      " 15  device_type           27 non-null     category      \n",
      " 16  store_id              27 non-null     string        \n",
      "dtypes: bool(1), category(4), datetime64[ns](1), float64(1), int64(2), object(2), string(6)\n",
      "memory usage: 3.8+ KB\n"
     ]
    }
   ],
   "source": [
    "cln_df_touchpoints.info()"
   ]
  },
  {
   "cell_type": "code",
   "execution_count": 696,
   "id": "0c8fd98a",
   "metadata": {},
   "outputs": [],
   "source": [
    "cln_df_touchpoints = cln_df_touchpoints.astype({\n",
    "    'touchpoint_id': 'string',\n",
    "    'customer_id': 'string',\n",
    "    'session_id': 'string',\n",
    "    'campaign_id': 'int',\n",
    "    'transaction_id': 'int',\n",
    "    'store_id': 'int',\n",
    "    'pages_viewed': 'int',\n",
    "    'touchpoint_type': 'category',\n",
    "    'channel': 'category',\n",
    "    'referrer_source': 'category',\n",
    "    'device_type': 'category'\n",
    "})\n",
    "\n",
    "cln_df_touchpoints = cln_df_touchpoints.astype({\n",
    "    'campaign_id': 'string',\n",
    "    'store_id': 'string',\n",
    "    'transaction_id': 'string'\n",
    "})\n",
    "\n",
    "cln_df_touchpoints['touchpoint_timestamp'] = pd.to_datetime(cln_df_touchpoints['touchpoint_timestamp'], format='%m/%d/%y %H:%M')"
   ]
  },
  {
   "cell_type": "code",
   "execution_count": 623,
   "id": "57df9c0f",
   "metadata": {},
   "outputs": [
    {
     "name": "stdout",
     "output_type": "stream",
     "text": [
      "\n",
      "CHANNEL:\n",
      "  Unique list: ['Instagram', 'Direct', 'Email', 'TikTok', 'Walk-in', 'Facebook', 'Google']\n",
      "\n",
      "TOUCHPOINT_TYPE:\n",
      "  Unique list: ['Ad Click', 'Web Visit', 'Email Open', 'Store Visit', 'Ad View']\n",
      "\n",
      "DEVICE_TYPE:\n",
      "  Unique list: ['Mobile', 'Desktop', 'Store']\n",
      "\n",
      "REFERRER_SOURCE:\n",
      "  Unique list: ['instagram.com', 'direct', 'email', 'gmail.com', 'tiktok.com', 'Walk In', 'facebook.com', 'google.com', 'outlook.com']\n"
     ]
    }
   ],
   "source": [
    "# Analyse categorical columns uniqueness\n",
    "tch_cat_cols = ['channel', 'touchpoint_type', 'device_type', 'referrer_source']\n",
    "\n",
    "for col in tch_cat_cols:\n",
    "    print(f\"\\n{col.upper()}:\")\n",
    "    # print(f\"  Unique values: {cln_df_trans[col].nunique()}\")\n",
    "    print(f\"  Unique list: {cln_df_touchpoints[col].unique().tolist()}\")\n",
    "    # print(f\"\\n  Value counts:\")\n",
    "    # print(cln_df_trans[col].value_counts())"
   ]
  },
  {
   "cell_type": "markdown",
   "id": "ab9f4b6e",
   "metadata": {},
   "source": [
    "## Customers"
   ]
  },
  {
   "cell_type": "code",
   "execution_count": 624,
   "id": "e09b5604",
   "metadata": {},
   "outputs": [
    {
     "data": {
      "text/html": [
       "<div>\n",
       "<style scoped>\n",
       "    .dataframe tbody tr th:only-of-type {\n",
       "        vertical-align: middle;\n",
       "    }\n",
       "\n",
       "    .dataframe tbody tr th {\n",
       "        vertical-align: top;\n",
       "    }\n",
       "\n",
       "    .dataframe thead th {\n",
       "        text-align: right;\n",
       "    }\n",
       "</style>\n",
       "<table border=\"1\" class=\"dataframe\">\n",
       "  <thead>\n",
       "    <tr style=\"text-align: right;\">\n",
       "      <th></th>\n",
       "      <th>customer_id</th>\n",
       "      <th>first_name</th>\n",
       "      <th>last_name</th>\n",
       "      <th>email</th>\n",
       "      <th>city</th>\n",
       "      <th>state</th>\n",
       "      <th>age</th>\n",
       "      <th>gender</th>\n",
       "      <th>customer_segment</th>\n",
       "      <th>acquisition_date</th>\n",
       "      <th>acquisition_channel</th>\n",
       "      <th>lifetime_value</th>\n",
       "      <th>churn_risk</th>\n",
       "    </tr>\n",
       "  </thead>\n",
       "  <tbody>\n",
       "    <tr>\n",
       "      <th>30</th>\n",
       "      <td>1030</td>\n",
       "      <td>Eric</td>\n",
       "      <td>Young</td>\n",
       "      <td>eric.y@email.com</td>\n",
       "      <td>Houston</td>\n",
       "      <td>TX</td>\n",
       "      <td>46</td>\n",
       "      <td>M</td>\n",
       "      <td>Dormant</td>\n",
       "      <td>12/1/20</td>\n",
       "      <td>Email</td>\n",
       "      <td>267.9</td>\n",
       "      <td>High</td>\n",
       "    </tr>\n",
       "  </tbody>\n",
       "</table>\n",
       "</div>"
      ],
      "text/plain": [
       "    customer_id first_name last_name             email     city state  age  \\\n",
       "30         1030       Eric     Young  eric.y@email.com  Houston    TX   46   \n",
       "\n",
       "   gender customer_segment acquisition_date acquisition_channel  \\\n",
       "30      M          Dormant          12/1/20               Email   \n",
       "\n",
       "    lifetime_value churn_risk  \n",
       "30           267.9       High  "
      ]
     },
     "execution_count": 624,
     "metadata": {},
     "output_type": "execute_result"
    }
   ],
   "source": [
    "# check for duplicate rows\n",
    "channel_customers.loc[channel_customers.duplicated()]"
   ]
  },
  {
   "cell_type": "code",
   "execution_count": 625,
   "id": "0b817f76",
   "metadata": {},
   "outputs": [
    {
     "data": {
      "text/html": [
       "<div>\n",
       "<style scoped>\n",
       "    .dataframe tbody tr th:only-of-type {\n",
       "        vertical-align: middle;\n",
       "    }\n",
       "\n",
       "    .dataframe tbody tr th {\n",
       "        vertical-align: top;\n",
       "    }\n",
       "\n",
       "    .dataframe thead th {\n",
       "        text-align: right;\n",
       "    }\n",
       "</style>\n",
       "<table border=\"1\" class=\"dataframe\">\n",
       "  <thead>\n",
       "    <tr style=\"text-align: right;\">\n",
       "      <th></th>\n",
       "      <th>customer_id</th>\n",
       "      <th>first_name</th>\n",
       "      <th>last_name</th>\n",
       "      <th>email</th>\n",
       "      <th>city</th>\n",
       "      <th>state</th>\n",
       "      <th>age</th>\n",
       "      <th>gender</th>\n",
       "      <th>customer_segment</th>\n",
       "      <th>acquisition_date</th>\n",
       "      <th>acquisition_channel</th>\n",
       "      <th>lifetime_value</th>\n",
       "      <th>churn_risk</th>\n",
       "    </tr>\n",
       "  </thead>\n",
       "  <tbody>\n",
       "  </tbody>\n",
       "</table>\n",
       "</div>"
      ],
      "text/plain": [
       "Empty DataFrame\n",
       "Columns: [customer_id, first_name, last_name, email, city, state, age, gender, customer_segment, acquisition_date, acquisition_channel, lifetime_value, churn_risk]\n",
       "Index: []"
      ]
     },
     "execution_count": 625,
     "metadata": {},
     "output_type": "execute_result"
    }
   ],
   "source": [
    "cln_df_customers = channel_customers.copy()\n",
    "cln_df_customers.drop_duplicates(keep = 'first', inplace=True)\n",
    "cln_df_customers.loc[cln_df_customers.duplicated()]"
   ]
  },
  {
   "cell_type": "code",
   "execution_count": 626,
   "id": "018b1a5d",
   "metadata": {},
   "outputs": [
    {
     "data": {
      "text/plain": [
       "customer_id            0\n",
       "first_name             0\n",
       "last_name              0\n",
       "email                  0\n",
       "city                   0\n",
       "state                  0\n",
       "age                    0\n",
       "gender                 0\n",
       "customer_segment       0\n",
       "acquisition_date       0\n",
       "acquisition_channel    0\n",
       "lifetime_value         0\n",
       "churn_risk             0\n",
       "dtype: int64"
      ]
     },
     "execution_count": 626,
     "metadata": {},
     "output_type": "execute_result"
    }
   ],
   "source": [
    "cln_df_customers.isnull().sum()"
   ]
  },
  {
   "cell_type": "code",
   "execution_count": 627,
   "id": "482b3cb1",
   "metadata": {},
   "outputs": [
    {
     "name": "stdout",
     "output_type": "stream",
     "text": [
      "<class 'pandas.core.frame.DataFrame'>\n",
      "Index: 30 entries, 0 to 29\n",
      "Data columns (total 13 columns):\n",
      " #   Column               Non-Null Count  Dtype  \n",
      "---  ------               --------------  -----  \n",
      " 0   customer_id          30 non-null     int64  \n",
      " 1   first_name           30 non-null     object \n",
      " 2   last_name            30 non-null     object \n",
      " 3   email                30 non-null     object \n",
      " 4   city                 30 non-null     object \n",
      " 5   state                30 non-null     object \n",
      " 6   age                  30 non-null     int64  \n",
      " 7   gender               30 non-null     object \n",
      " 8   customer_segment     30 non-null     object \n",
      " 9   acquisition_date     30 non-null     object \n",
      " 10  acquisition_channel  30 non-null     object \n",
      " 11  lifetime_value       30 non-null     float64\n",
      " 12  churn_risk           30 non-null     object \n",
      "dtypes: float64(1), int64(2), object(10)\n",
      "memory usage: 3.3+ KB\n"
     ]
    }
   ],
   "source": [
    "cln_df_customers.info()"
   ]
  },
  {
   "cell_type": "code",
   "execution_count": 628,
   "id": "a00c8835",
   "metadata": {},
   "outputs": [],
   "source": [
    "cln_df_customers = cln_df_customers.astype({\n",
    "    'customer_id': 'string',\n",
    "    'first_name': 'string',\n",
    "    'last_name': 'string',\n",
    "    'email': 'string',\n",
    "    'city': 'string',\n",
    "    'state': 'string',\n",
    "    'gender': 'category',\n",
    "    'customer_segment': 'category',\n",
    "    'acquisition_channel': 'category',\n",
    "    'churn_risk': 'category'\n",
    "})\n",
    "\n",
    "cln_df_customers['acquisition_date'] = pd.to_datetime(cln_df_customers['acquisition_date'], format='%m/%d/%y')"
   ]
  },
  {
   "cell_type": "code",
   "execution_count": 629,
   "id": "6b6a21aa",
   "metadata": {},
   "outputs": [
    {
     "name": "stdout",
     "output_type": "stream",
     "text": [
      "\n",
      "GENDER:\n",
      "  Unique list: ['F', 'M']\n",
      "\n",
      "CUSTOMER_SEGMENT:\n",
      "  Unique list: ['Occasional', 'High-Value', 'Frequent', 'New', 'Dormant']\n",
      "\n",
      "ACQUISITION_CHANNEL:\n",
      "  Unique list: ['Social Media', 'Google', 'Email', 'Direct', 'Instagram', 'Referral', 'Facebook', 'TikTok']\n",
      "\n",
      "CHURN_RISK:\n",
      "  Unique list: ['Low', 'Medium', 'High']\n"
     ]
    }
   ],
   "source": [
    "# Analyse categorical columns uniqueness\n",
    "cust_cat_cols = ['gender', 'customer_segment', 'acquisition_channel', 'churn_risk']\n",
    "\n",
    "for col in cust_cat_cols:\n",
    "    print(f\"\\n{col.upper()}:\")\n",
    "    # print(f\"  Unique values: {cln_df_trans[col].nunique()}\")\n",
    "    print(f\"  Unique list: {cln_df_customers[col].unique().tolist()}\")\n",
    "    # print(f\"\\n  Value counts:\")\n",
    "    # print(cln_df_trans[col].value_counts())"
   ]
  },
  {
   "cell_type": "markdown",
   "id": "ad34365f",
   "metadata": {},
   "source": [
    "## Marketing Spend"
   ]
  },
  {
   "cell_type": "code",
   "execution_count": 630,
   "id": "7dd54879",
   "metadata": {},
   "outputs": [
    {
     "data": {
      "text/html": [
       "<div>\n",
       "<style scoped>\n",
       "    .dataframe tbody tr th:only-of-type {\n",
       "        vertical-align: middle;\n",
       "    }\n",
       "\n",
       "    .dataframe tbody tr th {\n",
       "        vertical-align: top;\n",
       "    }\n",
       "\n",
       "    .dataframe thead th {\n",
       "        text-align: right;\n",
       "    }\n",
       "</style>\n",
       "<table border=\"1\" class=\"dataframe\">\n",
       "  <thead>\n",
       "    <tr style=\"text-align: right;\">\n",
       "      <th></th>\n",
       "      <th>spend_id</th>\n",
       "      <th>campaign_id</th>\n",
       "      <th>spend_date</th>\n",
       "      <th>channel</th>\n",
       "      <th>impressions</th>\n",
       "      <th>clicks</th>\n",
       "      <th>spend_amount</th>\n",
       "      <th>conversions</th>\n",
       "      <th>revenue_attributed</th>\n",
       "    </tr>\n",
       "  </thead>\n",
       "  <tbody>\n",
       "  </tbody>\n",
       "</table>\n",
       "</div>"
      ],
      "text/plain": [
       "Empty DataFrame\n",
       "Columns: [spend_id, campaign_id, spend_date, channel, impressions, clicks, spend_amount, conversions, revenue_attributed]\n",
       "Index: []"
      ]
     },
     "execution_count": 630,
     "metadata": {},
     "output_type": "execute_result"
    }
   ],
   "source": [
    "channel_marketing_spend.loc[channel_marketing_spend.duplicated()]"
   ]
  },
  {
   "cell_type": "code",
   "execution_count": 631,
   "id": "929f97e5",
   "metadata": {},
   "outputs": [
    {
     "data": {
      "text/plain": [
       "spend_id              0\n",
       "campaign_id           0\n",
       "spend_date            0\n",
       "channel               0\n",
       "impressions           0\n",
       "clicks                0\n",
       "spend_amount          0\n",
       "conversions           0\n",
       "revenue_attributed    0\n",
       "dtype: int64"
      ]
     },
     "execution_count": 631,
     "metadata": {},
     "output_type": "execute_result"
    }
   ],
   "source": [
    "channel_marketing_spend.isnull().sum()"
   ]
  },
  {
   "cell_type": "code",
   "execution_count": 632,
   "id": "da2cf69d",
   "metadata": {},
   "outputs": [],
   "source": [
    "cln_df_mkt_spnd = channel_marketing_spend.copy()"
   ]
  },
  {
   "cell_type": "code",
   "execution_count": 633,
   "id": "5462aeee",
   "metadata": {},
   "outputs": [
    {
     "name": "stdout",
     "output_type": "stream",
     "text": [
      "<class 'pandas.core.frame.DataFrame'>\n",
      "RangeIndex: 30 entries, 0 to 29\n",
      "Data columns (total 9 columns):\n",
      " #   Column              Non-Null Count  Dtype  \n",
      "---  ------              --------------  -----  \n",
      " 0   spend_id            30 non-null     int64  \n",
      " 1   campaign_id         30 non-null     int64  \n",
      " 2   spend_date          30 non-null     object \n",
      " 3   channel             30 non-null     object \n",
      " 4   impressions         30 non-null     int64  \n",
      " 5   clicks              30 non-null     int64  \n",
      " 6   spend_amount        30 non-null     float64\n",
      " 7   conversions         30 non-null     int64  \n",
      " 8   revenue_attributed  30 non-null     float64\n",
      "dtypes: float64(2), int64(5), object(2)\n",
      "memory usage: 2.2+ KB\n"
     ]
    }
   ],
   "source": [
    "cln_df_mkt_spnd.info()"
   ]
  },
  {
   "cell_type": "code",
   "execution_count": 634,
   "id": "4d5f2349",
   "metadata": {},
   "outputs": [],
   "source": [
    "cln_df_mkt_spnd = cln_df_mkt_spnd.astype({\n",
    "    'spend_id': 'string',\n",
    "    'campaign_id': 'string',\n",
    "    'channel': 'category'\n",
    "})\n",
    "\n",
    "cln_df_mkt_spnd['spend_date'] = pd.to_datetime(cln_df_mkt_spnd['spend_date'], format='mixed')"
   ]
  },
  {
   "cell_type": "code",
   "execution_count": 635,
   "id": "cf7ad316",
   "metadata": {},
   "outputs": [
    {
     "name": "stdout",
     "output_type": "stream",
     "text": [
      "  Unique list: ['Instagram', 'Google', 'Email', 'Facebook', 'TikTok']\n"
     ]
    }
   ],
   "source": [
    "# Analyse categorical columns uniqueness\n",
    "\n",
    "print(f\"  Unique list: {cln_df_mkt_spnd['channel'].unique().tolist()}\")\n"
   ]
  },
  {
   "cell_type": "markdown",
   "id": "b7de14fe",
   "metadata": {},
   "source": [
    "## Marketing Campaign"
   ]
  },
  {
   "cell_type": "code",
   "execution_count": 636,
   "id": "c28962ea",
   "metadata": {},
   "outputs": [
    {
     "data": {
      "text/html": [
       "<div>\n",
       "<style scoped>\n",
       "    .dataframe tbody tr th:only-of-type {\n",
       "        vertical-align: middle;\n",
       "    }\n",
       "\n",
       "    .dataframe tbody tr th {\n",
       "        vertical-align: top;\n",
       "    }\n",
       "\n",
       "    .dataframe thead th {\n",
       "        text-align: right;\n",
       "    }\n",
       "</style>\n",
       "<table border=\"1\" class=\"dataframe\">\n",
       "  <thead>\n",
       "    <tr style=\"text-align: right;\">\n",
       "      <th></th>\n",
       "      <th>campaign_id</th>\n",
       "      <th>campaign_name</th>\n",
       "      <th>campaign_type</th>\n",
       "      <th>channel</th>\n",
       "      <th>start_date</th>\n",
       "      <th>end_date</th>\n",
       "      <th>budget</th>\n",
       "      <th>target_audience</th>\n",
       "      <th>campaign_goal</th>\n",
       "      <th>status</th>\n",
       "    </tr>\n",
       "  </thead>\n",
       "  <tbody>\n",
       "  </tbody>\n",
       "</table>\n",
       "</div>"
      ],
      "text/plain": [
       "Empty DataFrame\n",
       "Columns: [campaign_id, campaign_name, campaign_type, channel, start_date, end_date, budget, target_audience, campaign_goal, status]\n",
       "Index: []"
      ]
     },
     "execution_count": 636,
     "metadata": {},
     "output_type": "execute_result"
    }
   ],
   "source": [
    "channel_marketing_campaigns.loc[channel_marketing_campaigns.duplicated()]"
   ]
  },
  {
   "cell_type": "code",
   "execution_count": 637,
   "id": "ade4afd8",
   "metadata": {},
   "outputs": [
    {
     "data": {
      "text/plain": [
       "campaign_id        0\n",
       "campaign_name      0\n",
       "campaign_type      0\n",
       "channel            0\n",
       "start_date         0\n",
       "end_date           0\n",
       "budget             0\n",
       "target_audience    0\n",
       "campaign_goal      0\n",
       "status             0\n",
       "dtype: int64"
      ]
     },
     "execution_count": 637,
     "metadata": {},
     "output_type": "execute_result"
    }
   ],
   "source": [
    "channel_marketing_campaigns.isnull().sum()"
   ]
  },
  {
   "cell_type": "code",
   "execution_count": 638,
   "id": "b4274c31",
   "metadata": {},
   "outputs": [],
   "source": [
    "cln_df_mkt_cmp = channel_marketing_campaigns.copy()"
   ]
  },
  {
   "cell_type": "code",
   "execution_count": 639,
   "id": "e3c33962",
   "metadata": {},
   "outputs": [
    {
     "name": "stdout",
     "output_type": "stream",
     "text": [
      "<class 'pandas.core.frame.DataFrame'>\n",
      "RangeIndex: 30 entries, 0 to 29\n",
      "Data columns (total 10 columns):\n",
      " #   Column           Non-Null Count  Dtype \n",
      "---  ------           --------------  ----- \n",
      " 0   campaign_id      30 non-null     int64 \n",
      " 1   campaign_name    30 non-null     object\n",
      " 2   campaign_type    30 non-null     object\n",
      " 3   channel          30 non-null     object\n",
      " 4   start_date       30 non-null     object\n",
      " 5   end_date         30 non-null     object\n",
      " 6   budget           30 non-null     int64 \n",
      " 7   target_audience  30 non-null     object\n",
      " 8   campaign_goal    30 non-null     object\n",
      " 9   status           30 non-null     object\n",
      "dtypes: int64(2), object(8)\n",
      "memory usage: 2.5+ KB\n"
     ]
    }
   ],
   "source": [
    "cln_df_mkt_cmp.info()"
   ]
  },
  {
   "cell_type": "code",
   "execution_count": 640,
   "id": "90607a0e",
   "metadata": {},
   "outputs": [],
   "source": [
    "cln_df_mkt_cmp = cln_df_mkt_cmp.astype({\n",
    "    'campaign_id': 'string',\n",
    "    'campaign_name': 'string',\n",
    "    'campaign_type': 'category',\n",
    "    'channel': 'category',\n",
    "    'target_audience': 'category',\n",
    "    'campaign_goal': 'category',\n",
    "    'status': 'category'\n",
    "})\n",
    "\n",
    "cln_df_mkt_cmp['start_date'] = pd.to_datetime(cln_df_mkt_cmp['start_date'], format='%Y-%m-%d')\n",
    "cln_df_mkt_cmp['end_date'] = pd.to_datetime(cln_df_mkt_cmp['end_date'], format='%Y-%m-%d')\n",
    "\n",
    "# cln_df_mkt_cmp['start_date'] = cln_df_mkt_cmp['start_date'].dt.strftime('%m/%d/%y')\n",
    "# cln_df_mkt_cmp['end_date'] = cln_df_mkt_cmp['end_date'].dt.strftime('%m/%d/%y')\n"
   ]
  },
  {
   "cell_type": "code",
   "execution_count": 641,
   "id": "4828b9a3",
   "metadata": {},
   "outputs": [
    {
     "name": "stdout",
     "output_type": "stream",
     "text": [
      "\n",
      "CAMPAIGN_TYPE:\n",
      "  Unique list: ['Promotional', 'Sales', 'Retention', 'Influencer', 'Performance', 'Event', 'Product Launch']\n",
      "\n",
      "CHANNEL:\n",
      "  Unique list: ['Instagram', 'Google', 'Email', 'Facebook', 'TikTok', 'Direct Mail', 'Push Notification']\n",
      "\n",
      "TARGET_AUDIENCE:\n",
      "  Unique list: ['18-35 Female', 'All Segments', 'Existing Customers', '25-45 Active', '18-25 All', 'Cart Abandoners', 'Local Residents', 'Dormant Customers', 'App Users', 'High-Value Customers', '16-24 All', 'Frequent Shoppers', 'Site Visitors', 'Inactive Users']\n",
      "\n",
      "CAMPAIGN_GOAL:\n",
      "  Unique list: ['Brand Awareness', 'Revenue', 'Engagement', 'Acquisition', 'Conversion', 'Traffic', 'Reactivation']\n",
      "\n",
      "STATUS:\n",
      "  Unique list: ['Completed', 'Active', 'Planned']\n"
     ]
    }
   ],
   "source": [
    "# Analyse categorical columns uniqueness\n",
    "camp_cat_cols = ['campaign_type', 'channel', 'target_audience', 'campaign_goal', 'status']\n",
    "\n",
    "for col in camp_cat_cols:\n",
    "    print(f\"\\n{col.upper()}:\")\n",
    "    # print(f\"  Unique values: {cln_df_trans[col].nunique()}\")\n",
    "    print(f\"  Unique list: {cln_df_mkt_cmp[col].unique().tolist()}\")\n",
    "    # print(f\"\\n  Value counts:\")\n",
    "    # print(cln_df_trans[col].value_counts())"
   ]
  },
  {
   "cell_type": "markdown",
   "id": "90708c6e",
   "metadata": {},
   "source": [
    "## Stores"
   ]
  },
  {
   "cell_type": "code",
   "execution_count": 642,
   "id": "fdaf6692",
   "metadata": {},
   "outputs": [
    {
     "data": {
      "text/html": [
       "<div>\n",
       "<style scoped>\n",
       "    .dataframe tbody tr th:only-of-type {\n",
       "        vertical-align: middle;\n",
       "    }\n",
       "\n",
       "    .dataframe tbody tr th {\n",
       "        vertical-align: top;\n",
       "    }\n",
       "\n",
       "    .dataframe thead th {\n",
       "        text-align: right;\n",
       "    }\n",
       "</style>\n",
       "<table border=\"1\" class=\"dataframe\">\n",
       "  <thead>\n",
       "    <tr style=\"text-align: right;\">\n",
       "      <th></th>\n",
       "      <th>store_id</th>\n",
       "      <th>store_name</th>\n",
       "      <th>store_type</th>\n",
       "      <th>city</th>\n",
       "      <th>state</th>\n",
       "      <th>square_footage</th>\n",
       "      <th>manager_name</th>\n",
       "      <th>opened_date</th>\n",
       "      <th>zone</th>\n",
       "    </tr>\n",
       "  </thead>\n",
       "  <tbody>\n",
       "  </tbody>\n",
       "</table>\n",
       "</div>"
      ],
      "text/plain": [
       "Empty DataFrame\n",
       "Columns: [store_id, store_name, store_type, city, state, square_footage, manager_name, opened_date, zone]\n",
       "Index: []"
      ]
     },
     "execution_count": 642,
     "metadata": {},
     "output_type": "execute_result"
    }
   ],
   "source": [
    "channel_stores.loc[channel_stores.duplicated()]"
   ]
  },
  {
   "cell_type": "code",
   "execution_count": 643,
   "id": "c62fac1c",
   "metadata": {},
   "outputs": [
    {
     "data": {
      "text/plain": [
       "store_id          0\n",
       "store_name        0\n",
       "store_type        0\n",
       "city              0\n",
       "state             0\n",
       "square_footage    0\n",
       "manager_name      0\n",
       "opened_date       0\n",
       "zone              0\n",
       "dtype: int64"
      ]
     },
     "execution_count": 643,
     "metadata": {},
     "output_type": "execute_result"
    }
   ],
   "source": [
    "channel_stores.isnull().sum()"
   ]
  },
  {
   "cell_type": "code",
   "execution_count": 644,
   "id": "f066a94c",
   "metadata": {},
   "outputs": [],
   "source": [
    "cln_df_stores = channel_stores.copy()"
   ]
  },
  {
   "cell_type": "code",
   "execution_count": 645,
   "id": "ebc3bec6",
   "metadata": {},
   "outputs": [
    {
     "name": "stdout",
     "output_type": "stream",
     "text": [
      "<class 'pandas.core.frame.DataFrame'>\n",
      "RangeIndex: 15 entries, 0 to 14\n",
      "Data columns (total 9 columns):\n",
      " #   Column          Non-Null Count  Dtype \n",
      "---  ------          --------------  ----- \n",
      " 0   store_id        15 non-null     int64 \n",
      " 1   store_name      15 non-null     object\n",
      " 2   store_type      15 non-null     object\n",
      " 3   city            15 non-null     object\n",
      " 4   state           15 non-null     object\n",
      " 5   square_footage  15 non-null     int64 \n",
      " 6   manager_name    15 non-null     object\n",
      " 7   opened_date     15 non-null     object\n",
      " 8   zone            15 non-null     object\n",
      "dtypes: int64(2), object(7)\n",
      "memory usage: 1.2+ KB\n"
     ]
    }
   ],
   "source": [
    "cln_df_stores.info()"
   ]
  },
  {
   "cell_type": "code",
   "execution_count": 646,
   "id": "2426f77d",
   "metadata": {},
   "outputs": [],
   "source": [
    "cln_df_stores = cln_df_stores.astype({\n",
    "    'store_id': 'string',\n",
    "    'store_name': 'string',\n",
    "    'store_type': 'category',\n",
    "    'city': 'category',\n",
    "    'state': 'category',\n",
    "    'manager_name': 'string',\n",
    "    'zone': 'category'\n",
    "})\n",
    "\n",
    "cln_df_stores['opened_date'] = pd.to_datetime(cln_df_stores['opened_date'], format='%Y-%m-%d')\n"
   ]
  },
  {
   "cell_type": "code",
   "execution_count": 647,
   "id": "27450897",
   "metadata": {},
   "outputs": [
    {
     "name": "stdout",
     "output_type": "stream",
     "text": [
      "\n",
      "STORE_TYPE:\n",
      "  Unique list: ['Flagship', 'Standard', 'Outlet', 'Pop-up']\n",
      "\n",
      "CITY:\n",
      "  Unique list: ['Austin', 'Dallas', 'Houston', 'San Antonio', 'Fort Worth', 'El Paso', 'Plano', 'Arlington']\n",
      "\n",
      "STATE:\n",
      "  Unique list: ['TX']\n",
      "\n",
      "ZONE:\n",
      "  Unique list: ['Central', 'North', 'South', 'West']\n"
     ]
    }
   ],
   "source": [
    "\n",
    "# Analyse categorical columns uniqueness\n",
    "stores_cat_cols = ['store_type', 'city', 'state', 'zone']\n",
    "\n",
    "for col in stores_cat_cols:\n",
    "    print(f\"\\n{col.upper()}:\")\n",
    "    # print(f\"  Unique values: {cln_df_trans[col].nunique()}\")\n",
    "    print(f\"  Unique list: {cln_df_stores[col].unique().tolist()}\")\n",
    "    # print(f\"\\n  Value counts:\")\n",
    "    # print(cln_df_trans[col].value_counts())"
   ]
  },
  {
   "cell_type": "code",
   "execution_count": null,
   "id": "5e22eb8d",
   "metadata": {},
   "outputs": [],
   "source": [
    "# ## Output Cleaned Datasets\n",
    "\n",
    "# filepath = \"..\\\\team-project\\\\\"\n",
    " \n",
    "# # Your cleaned datasets\n",
    "# datasets = [cln_df_customers, cln_df_mkt_cmp, cln_df_mkt_spnd, cln_df_stores, cln_df_touchpoints, cln_df_trans]\n",
    " \n",
    "# # Corresponding names for the files\n",
    "# dataset_names = [\"customers\", \"marketing_campaign\", \"marketing_spend\", \"stores\", \"touchpoints\", \"transactions\"]\n",
    " \n",
    "# # Save each dataset with its name\n",
    "# for df, name in zip(datasets, dataset_names):\n",
    "#     filename = f\"{filepath}{name}_cleaned.csv\"\n",
    "#     df.to_csv(filename, index=False)"
   ]
  },
  {
   "cell_type": "code",
   "execution_count": 649,
   "id": "1d4ea872",
   "metadata": {},
   "outputs": [],
   "source": [
    "# #Re initializes to the cleaned cvs files \n",
    "\n",
    "# cln_df_trans = pd.read_csv(\"C:\\\\Labs\\\\Resources\\\\team-project\\\\transactions_cleaned.csv\")\n",
    "# cln_df_touchpoints = pd.read_csv(\"C:\\\\Labs\\\\Resources\\\\team-project\\\\touchpoints_cleaned.csv\")\n",
    "# cln_df_customers = pd.read_csv(\"C:\\\\Labs\\\\Resources\\\\team-project\\\\customers_cleaned.csv\")\n",
    "# cln_df_mkt_spnd = pd.read_csv(\"C:\\\\Labs\\\\Resources\\\\team-project\\\\marketing_spend_cleaned.csv\")\n",
    "# cln_df_mkt_cmp = pd.read_csv(\"C:\\\\Labs\\\\Resources\\\\team-project\\\\marketing_campaign_cleaned.csv\")\n",
    "# cln_df_stores = pd.read_csv(\"C:\\\\Labs\\\\Resources\\\\team-project\\\\stores_cleaned.csv\")"
   ]
  },
  {
   "cell_type": "markdown",
   "id": "4693d4a3",
   "metadata": {},
   "source": [
    "# Descriptive Analysis\n"
   ]
  },
  {
   "cell_type": "markdown",
   "id": "93194dd1",
   "metadata": {},
   "source": [
    "## Touchpoints"
   ]
  },
  {
   "cell_type": "code",
   "execution_count": 650,
   "id": "c8789025",
   "metadata": {},
   "outputs": [
    {
     "name": "stdout",
     "output_type": "stream",
     "text": [
      "Touchpoint count per journey:\n",
      "1    13\n",
      "2     4\n",
      "3     2\n",
      "Name: count, dtype: int64\n",
      "Touchpoints mean: 1.4210526315789473\n",
      "Touchpoints median: 1.0\n",
      "\n",
      "Summary:\n",
      "Total customers: 19\n",
      "Single-touch journeys: 13\n",
      "Multi-touch journeys: 6\n",
      "Most common journey length: 1 touchpoint(s)\n"
     ]
    },
    {
     "data": {
      "image/png": "[encoded data removed]",
      "text/plain": [
       "<Figure size 640x480 with 1 Axes>"
      ]
     },
     "metadata": {},
     "output_type": "display_data"
    }
   ],
   "source": [
    "import matplotlib.pyplot as plt\n",
    "import seaborn as sns\n",
    "import matplotlib as mpl\n",
    "import numpy as np\n",
    "\n",
    "# Count touchpoints per customer\n",
    "touchpoint_counts = cln_df_touchpoints.groupby(\"customer_id\").size()\n",
    " \n",
    "# Create distribution\n",
    "distribution = touchpoint_counts.value_counts().sort_index()\n",
    "tchpoint_mean = touchpoint_counts.mean()\n",
    "tchpoint_median = touchpoint_counts.median()\n",
    " \n",
    "# Print summary\n",
    "print(\"Touchpoint count per journey:\")\n",
    "print(distribution)\n",
    "print(f\"Touchpoints mean: {tchpoint_mean}\")\n",
    "print(f\"Touchpoints median: {tchpoint_median}\")\n",
    "\n",
    "# Summary stats\n",
    "print(\"\\nSummary:\")\n",
    "print(f\"Total customers: {len(touchpoint_counts)}\")\n",
    "print(f\"Single-touch journeys: {(touchpoint_counts == 1).sum()}\")\n",
    "print(f\"Multi-touch journeys: {(touchpoint_counts > 1).sum()}\")\n",
    "print(f\"Most common journey length: {touchpoint_counts.value_counts().idxmax()} touchpoint(s)\")\n",
    " \n",
    "# Plot\n",
    "distribution.plot(kind=\"bar\", color=\"skyblue\", title=\"Touchpoints per Customer Journey\")\n",
    "plt.xlabel(\"Number of Touchpoints\")\n",
    "plt.ylabel(\"Number of Customers\")\n",
    "plt.tight_layout()\n",
    "plt.show()"
   ]
  },
  {
   "cell_type": "code",
   "execution_count": 651,
   "id": "00100b2a",
   "metadata": {},
   "outputs": [
    {
     "name": "stdout",
     "output_type": "stream",
     "text": [
      "\n",
      "CHANNEL:\n",
      "  Unique values: 7\n",
      "  Unique list: ['Instagram', 'Direct', 'Email', 'TikTok', 'Walk-in', 'Facebook', 'Google']\n",
      "\n",
      "  Value counts:\n",
      "channel\n",
      "Direct       7\n",
      "Email        6\n",
      "Walk-in      5\n",
      "Google       4\n",
      "Instagram    2\n",
      "TikTok       2\n",
      "Facebook     1\n",
      "Name: count, dtype: int64\n",
      "\n",
      "TOUCHPOINT_TYPE:\n",
      "  Unique values: 5\n",
      "  Unique list: ['Ad Click', 'Web Visit', 'Email Open', 'Store Visit', 'Ad View']\n",
      "\n",
      "  Value counts:\n",
      "touchpoint_type\n",
      "Web Visit      14\n",
      "Store Visit     5\n",
      "Ad Click        4\n",
      "Email Open      3\n",
      "Ad View         1\n",
      "Name: count, dtype: int64\n",
      "\n",
      "DEVICE_TYPE:\n",
      "  Unique values: 3\n",
      "  Unique list: ['Mobile', 'Desktop', 'Store']\n",
      "\n",
      "  Value counts:\n",
      "device_type\n",
      "Mobile     14\n",
      "Desktop     8\n",
      "Store       5\n",
      "Name: count, dtype: int64\n",
      "\n",
      "REFERRER_SOURCE:\n",
      "  Unique values: 9\n",
      "  Unique list: ['instagram.com', 'direct', 'email', 'gmail.com', 'tiktok.com', 'Walk In', 'facebook.com', 'google.com', 'outlook.com']\n",
      "\n",
      "  Value counts:\n",
      "referrer_source\n",
      "direct           7\n",
      "Walk In          5\n",
      "google.com       4\n",
      "email            3\n",
      "gmail.com        2\n",
      "tiktok.com       2\n",
      "instagram.com    2\n",
      "facebook.com     1\n",
      "outlook.com      1\n",
      "Name: count, dtype: int64\n"
     ]
    }
   ],
   "source": [
    "for col in tch_cat_cols:\n",
    "    print(f\"\\n{col.upper()}:\")\n",
    "    print(f\"  Unique values: {cln_df_touchpoints[col].nunique()}\")\n",
    "    print(f\"  Unique list: {cln_df_touchpoints[col].unique().tolist()}\")\n",
    "    print(f\"\\n  Value counts:\")\n",
    "    print(cln_df_touchpoints[col].value_counts())"
   ]
  },
  {
   "cell_type": "code",
   "execution_count": 652,
   "id": "6e296438",
   "metadata": {},
   "outputs": [],
   "source": [
    "# Create boxplots for numeric columns\n",
    "# fig, ax = plt.subplots()\n",
    " \n",
    "# Pages viewed boxplot\n",
    "# ax.boxplot(cln_df_touchpoints.groupby(['customer_id'].dropna(), vert=True))\n",
    "# ax.set_title('Pages Viewed Distribution', fontsize=12, fontweight='bold')\n",
    "# ax.set_ylabel('Pages Viewed')\n",
    "# ax.grid(True, alpha=0.3)\n",
    " \n",
    "# # Cart additions boxplot\n",
    "# axes[1].boxplot(cln_df_touchpoints['cart_additions'].dropna(), vert=True)\n",
    "# axes[1].set_title('Cart Additions Distribution', fontsize=12, fontweight='bold')\n",
    "# axes[1].set_ylabel('Cart Additions')\n",
    "# axes[1].grid(True, alpha=0.3)\n",
    " \n",
    "# # Cart value boxplot (non-zero)\n",
    "# cart_values_nonzero = cln_df_touchpoints['cart_value'][cln_df_touchpoints['cart_value'] > 0].dropna()\n",
    "# axes[2].boxplot(cart_values_nonzero, vert=True)\n",
    "# axes[2].set_title('Cart Value Distribution (Non-zero)', fontsize=12, fontweight='bold')\n",
    "# axes[2].set_ylabel('Cart Value ($)')\n",
    "# axes[2].grid(True, alpha=0.3)\n",
    " \n",
    "# plt.tight_layout()\n",
    "# plt.show()\n",
    " \n",
    "# # Identify outliers\n",
    "# Q1 = cln_df_touchpoints['cart_value'].quantile(0.25)\n",
    "# Q3 = cln_df_touchpoints['cart_value'].quantile(0.75)\n",
    "# IQR = Q3 - Q1\n",
    "# outliers = cln_df_touchpoints[\n",
    "#     (cln_df_touchpoints['cart_value'] < Q1 - 1.5 * IQR) |\n",
    "#     (cln_df_touchpoints['cart_value'] > Q3 + 1.5 * IQR)\n",
    "# ]\n",
    "# print(f\"\\nFound {len(outliers)} outliers in cart_value (using IQR method)\")"
   ]
  },
  {
   "cell_type": "code",
   "execution_count": 653,
   "id": "7abf8d09",
   "metadata": {},
   "outputs": [
    {
     "data": {
      "image/png": "[encoded data removed]",
      "text/plain": [
       "<Figure size 640x480 with 1 Axes>"
      ]
     },
     "metadata": {},
     "output_type": "display_data"
    }
   ],
   "source": [
    "# Create bar charts for categorical variables\n",
    "\n",
    "# Channel distribution\n",
    "\n",
    "fig, ax = plt.subplots()\n",
    "\n",
    "channel_counts = cln_df_touchpoints['touchpoint_type'].value_counts()\n",
    "ax.bar(channel_counts.index, channel_counts.values, color='steelblue')\n",
    "ax.set_title('Touchpoints by Channel', fontsize=12, fontweight='bold')\n",
    "ax.set_xlabel('Channel')\n",
    "ax.set_ylabel('Count')\n",
    "ax.tick_params(axis='x', rotation=45)\n",
    "\n",
    "\n",
    "plt.tight_layout()\n",
    "plt.show()"
   ]
  },
  {
   "cell_type": "code",
   "execution_count": 654,
   "id": "655bb96f",
   "metadata": {},
   "outputs": [
    {
     "name": "stdout",
     "output_type": "stream",
     "text": [
      "  touchpoint_type  converted_flag  conversion_rate\n",
      "0        Ad Click        0.000000         0.000000\n",
      "1         Ad View        1.000000       100.000000\n",
      "2      Email Open        0.333333        33.333333\n",
      "3     Store Visit        1.000000       100.000000\n",
      "4       Web Visit        0.857143        85.714286\n"
     ]
    },
    {
     "data": {
      "image/png": "[encoded data removed]",
      "text/plain": [
       "<Figure size 600x400 with 1 Axes>"
      ]
     },
     "metadata": {},
     "output_type": "display_data"
    }
   ],
   "source": [
    "# Calculate conversion rate by touchpoint_type\n",
    "conversion_rate = cln_df_touchpoints.groupby('touchpoint_type')['converted_flag'].mean().reset_index()\n",
    "conversion_rate['conversion_rate'] = conversion_rate['converted_flag'] * 100\n",
    "\n",
    "print(conversion_rate)\n",
    "\n",
    "# Plot using seaborn\n",
    "plt.figure(figsize=(6, 4))\n",
    "sns.barplot(data=conversion_rate, x='touchpoint_type', y='conversion_rate', palette='viridis')\n",
    "plt.xticks(rotation=45)\n",
    "plt.ylabel('Conversion Rate (%)')\n",
    "plt.title('Conversion Rate by Touchpoint Type')\n",
    "plt.tight_layout()\n",
    "plt.show()"
   ]
  },
  {
   "cell_type": "code",
   "execution_count": null,
   "id": "db69499e",
   "metadata": {},
   "outputs": [
    {
     "data": {
      "image/png": "[encoded data removed]",
      "text/plain": [
       "<Figure size 1200x600 with 1 Axes>"
      ]
     },
     "metadata": {},
     "output_type": "display_data"
    }
   ],
   "source": [
    "\n",
    "# Sort by timestamp\n",
    "cln_df_touchpoints_sorted = cln_df_touchpoints.sort_values(by=['customer_id', 'touchpoint_timestamp'])\n",
    "\n",
    "# Get first and last touch channel per customer\n",
    "first_touch = cln_df_touchpoints_sorted.groupby('customer_id').first().reset_index()\n",
    "last_touch = cln_df_touchpoints_sorted.groupby('customer_id').last().reset_index()\n",
    "\n",
    "# Count number of journeys by first and last touch channel (all journeys)\n",
    "first_all = first_touch['channel'].value_counts().reset_index()\n",
    "first_all.columns = ['channel', 'journeys_started']\n",
    "\n",
    "last_all = last_touch['channel'].value_counts().reset_index()\n",
    "last_all.columns = ['channel', 'journeys_ended']\n",
    "\n",
    "# Merge all data\n",
    "summary = pd.merge(first_all, last_all, on='channel', how='outer')\n",
    "\n",
    "# Plotting\n",
    "plt.figure(figsize=(12, 6))\n",
    "sns.barplot(data=summary.melt(id_vars='channel', value_vars=['journeys_started', 'journeys_ended']), x='channel', y='value', hue='variable')\n",
    "plt.title('Number of Journeys by First and Last Touch Channel (All Journeys)')\n",
    "plt.ylabel('Number of Journeys')\n",
    "plt.xticks(rotation=45)\n",
    "plt.tight_layout()\n",
    "plt.show()\n"
   ]
  },
  {
   "cell_type": "code",
   "execution_count": 662,
   "id": "7daf7a36",
   "metadata": {},
   "outputs": [
    {
     "name": "stdout",
     "output_type": "stream",
     "text": [
      "Average Journey Duration: 0 days 09:34:44.210526315\n",
      "Median Journey Duration: 0 days 00:00:00\n",
      "Max Journey Duration: 2 days 02:45:00\n"
     ]
    }
   ],
   "source": [
    "journey_duration = cln_df_touchpoints.groupby('customer_id')['touchpoint_timestamp'].agg(['min', 'max'])\n",
    "journey_duration['duration'] = (journey_duration['max'] - journey_duration['min'])\n",
    "jrny_dur_avg = journey_duration['duration'].mean()\n",
    "jrny_dur_med = journey_duration['duration'].median()\n",
    "jrny_dur_max = journey_duration['duration'].max()\n",
    "\n",
    "print(f\"Average Journey Duration: {jrny_dur_avg}\")\n",
    "print(f\"Median Journey Duration: {jrny_dur_med}\")\n",
    "print(f\"Max Journey Duration: {jrny_dur_max}\")\n",
    "\n"
   ]
  },
  {
   "cell_type": "code",
   "execution_count": 670,
   "id": "85ff9de1",
   "metadata": {},
   "outputs": [
    {
     "ename": "KeyError",
     "evalue": "'channel'",
     "output_type": "error",
     "traceback": [
      "\u001b[31m---------------------------------------------------------------------------\u001b[39m",
      "\u001b[31mKeyError\u001b[39m                                  Traceback (most recent call last)",
      "\u001b[36mCell\u001b[39m\u001b[36m \u001b[39m\u001b[32mIn[670]\u001b[39m\u001b[32m, line 16\u001b[39m\n\u001b[32m     13\u001b[39m last_touch = merged_sorted.groupby(\u001b[33m'\u001b[39m\u001b[33mtransaction_id\u001b[39m\u001b[33m'\u001b[39m).last().reset_index()\n\u001b[32m     15\u001b[39m \u001b[38;5;66;03m# Assign total_amount to first and last touch channels\u001b[39;00m\n\u001b[32m---> \u001b[39m\u001b[32m16\u001b[39m first_touch_revenue = \u001b[43mfirst_touch\u001b[49m\u001b[43m.\u001b[49m\u001b[43mgroupby\u001b[49m\u001b[43m(\u001b[49m\u001b[33;43m'\u001b[39;49m\u001b[33;43mchannel\u001b[39;49m\u001b[33;43m'\u001b[39;49m\u001b[43m)\u001b[49m[\u001b[33m'\u001b[39m\u001b[33mtotal_amount\u001b[39m\u001b[33m'\u001b[39m].sum().reset_index()\n\u001b[32m     17\u001b[39m first_touch_revenue.columns = [\u001b[33m'\u001b[39m\u001b[33mchannel\u001b[39m\u001b[33m'\u001b[39m, \u001b[33m'\u001b[39m\u001b[33mfirst_touch_revenue\u001b[39m\u001b[33m'\u001b[39m]\n\u001b[32m     19\u001b[39m last_touch_revenue = last_touch.groupby(\u001b[33m'\u001b[39m\u001b[33mchannel\u001b[39m\u001b[33m'\u001b[39m)[\u001b[33m'\u001b[39m\u001b[33mtotal_amount\u001b[39m\u001b[33m'\u001b[39m].sum().reset_index()\n",
      "\u001b[36mFile \u001b[39m\u001b[32m~\\AppData\\Roaming\\Python\\Python313\\site-packages\\pandas\\core\\frame.py:9210\u001b[39m, in \u001b[36mDataFrame.groupby\u001b[39m\u001b[34m(self, by, axis, level, as_index, sort, group_keys, observed, dropna)\u001b[39m\n\u001b[32m   9207\u001b[39m \u001b[38;5;28;01mif\u001b[39;00m level \u001b[38;5;129;01mis\u001b[39;00m \u001b[38;5;28;01mNone\u001b[39;00m \u001b[38;5;129;01mand\u001b[39;00m by \u001b[38;5;129;01mis\u001b[39;00m \u001b[38;5;28;01mNone\u001b[39;00m:\n\u001b[32m   9208\u001b[39m     \u001b[38;5;28;01mraise\u001b[39;00m \u001b[38;5;167;01mTypeError\u001b[39;00m(\u001b[33m\"\u001b[39m\u001b[33mYou have to supply one of \u001b[39m\u001b[33m'\u001b[39m\u001b[33mby\u001b[39m\u001b[33m'\u001b[39m\u001b[33m and \u001b[39m\u001b[33m'\u001b[39m\u001b[33mlevel\u001b[39m\u001b[33m'\u001b[39m\u001b[33m\"\u001b[39m)\n\u001b[32m-> \u001b[39m\u001b[32m9210\u001b[39m \u001b[38;5;28;01mreturn\u001b[39;00m \u001b[43mDataFrameGroupBy\u001b[49m\u001b[43m(\u001b[49m\n\u001b[32m   9211\u001b[39m \u001b[43m    \u001b[49m\u001b[43mobj\u001b[49m\u001b[43m=\u001b[49m\u001b[38;5;28;43mself\u001b[39;49m\u001b[43m,\u001b[49m\n\u001b[32m   9212\u001b[39m \u001b[43m    \u001b[49m\u001b[43mkeys\u001b[49m\u001b[43m=\u001b[49m\u001b[43mby\u001b[49m\u001b[43m,\u001b[49m\n\u001b[32m   9213\u001b[39m \u001b[43m    \u001b[49m\u001b[43maxis\u001b[49m\u001b[43m=\u001b[49m\u001b[43maxis\u001b[49m\u001b[43m,\u001b[49m\n\u001b[32m   9214\u001b[39m \u001b[43m    \u001b[49m\u001b[43mlevel\u001b[49m\u001b[43m=\u001b[49m\u001b[43mlevel\u001b[49m\u001b[43m,\u001b[49m\n\u001b[32m   9215\u001b[39m \u001b[43m    \u001b[49m\u001b[43mas_index\u001b[49m\u001b[43m=\u001b[49m\u001b[43mas_index\u001b[49m\u001b[43m,\u001b[49m\n\u001b[32m   9216\u001b[39m \u001b[43m    \u001b[49m\u001b[43msort\u001b[49m\u001b[43m=\u001b[49m\u001b[43msort\u001b[49m\u001b[43m,\u001b[49m\n\u001b[32m   9217\u001b[39m \u001b[43m    \u001b[49m\u001b[43mgroup_keys\u001b[49m\u001b[43m=\u001b[49m\u001b[43mgroup_keys\u001b[49m\u001b[43m,\u001b[49m\n\u001b[32m   9218\u001b[39m \u001b[43m    \u001b[49m\u001b[43mobserved\u001b[49m\u001b[43m=\u001b[49m\u001b[43mobserved\u001b[49m\u001b[43m,\u001b[49m\n\u001b[32m   9219\u001b[39m \u001b[43m    \u001b[49m\u001b[43mdropna\u001b[49m\u001b[43m=\u001b[49m\u001b[43mdropna\u001b[49m\u001b[43m,\u001b[49m\n\u001b[32m   9220\u001b[39m \u001b[43m\u001b[49m\u001b[43m)\u001b[49m\n",
      "\u001b[36mFile \u001b[39m\u001b[32m~\\AppData\\Roaming\\Python\\Python313\\site-packages\\pandas\\core\\groupby\\groupby.py:1331\u001b[39m, in \u001b[36mGroupBy.__init__\u001b[39m\u001b[34m(self, obj, keys, axis, level, grouper, exclusions, selection, as_index, sort, group_keys, observed, dropna)\u001b[39m\n\u001b[32m   1328\u001b[39m \u001b[38;5;28mself\u001b[39m.dropna = dropna\n\u001b[32m   1330\u001b[39m \u001b[38;5;28;01mif\u001b[39;00m grouper \u001b[38;5;129;01mis\u001b[39;00m \u001b[38;5;28;01mNone\u001b[39;00m:\n\u001b[32m-> \u001b[39m\u001b[32m1331\u001b[39m     grouper, exclusions, obj = \u001b[43mget_grouper\u001b[49m\u001b[43m(\u001b[49m\n\u001b[32m   1332\u001b[39m \u001b[43m        \u001b[49m\u001b[43mobj\u001b[49m\u001b[43m,\u001b[49m\n\u001b[32m   1333\u001b[39m \u001b[43m        \u001b[49m\u001b[43mkeys\u001b[49m\u001b[43m,\u001b[49m\n\u001b[32m   1334\u001b[39m \u001b[43m        \u001b[49m\u001b[43maxis\u001b[49m\u001b[43m=\u001b[49m\u001b[43maxis\u001b[49m\u001b[43m,\u001b[49m\n\u001b[32m   1335\u001b[39m \u001b[43m        \u001b[49m\u001b[43mlevel\u001b[49m\u001b[43m=\u001b[49m\u001b[43mlevel\u001b[49m\u001b[43m,\u001b[49m\n\u001b[32m   1336\u001b[39m \u001b[43m        \u001b[49m\u001b[43msort\u001b[49m\u001b[43m=\u001b[49m\u001b[43msort\u001b[49m\u001b[43m,\u001b[49m\n\u001b[32m   1337\u001b[39m \u001b[43m        \u001b[49m\u001b[43mobserved\u001b[49m\u001b[43m=\u001b[49m\u001b[38;5;28;43;01mFalse\u001b[39;49;00m\u001b[43m \u001b[49m\u001b[38;5;28;43;01mif\u001b[39;49;00m\u001b[43m \u001b[49m\u001b[43mobserved\u001b[49m\u001b[43m \u001b[49m\u001b[38;5;129;43;01mis\u001b[39;49;00m\u001b[43m \u001b[49m\u001b[43mlib\u001b[49m\u001b[43m.\u001b[49m\u001b[43mno_default\u001b[49m\u001b[43m \u001b[49m\u001b[38;5;28;43;01melse\u001b[39;49;00m\u001b[43m \u001b[49m\u001b[43mobserved\u001b[49m\u001b[43m,\u001b[49m\n\u001b[32m   1338\u001b[39m \u001b[43m        \u001b[49m\u001b[43mdropna\u001b[49m\u001b[43m=\u001b[49m\u001b[38;5;28;43mself\u001b[39;49m\u001b[43m.\u001b[49m\u001b[43mdropna\u001b[49m\u001b[43m,\u001b[49m\n\u001b[32m   1339\u001b[39m \u001b[43m    \u001b[49m\u001b[43m)\u001b[49m\n\u001b[32m   1341\u001b[39m \u001b[38;5;28;01mif\u001b[39;00m observed \u001b[38;5;129;01mis\u001b[39;00m lib.no_default:\n\u001b[32m   1342\u001b[39m     \u001b[38;5;28;01mif\u001b[39;00m \u001b[38;5;28many\u001b[39m(ping._passed_categorical \u001b[38;5;28;01mfor\u001b[39;00m ping \u001b[38;5;129;01min\u001b[39;00m grouper.groupings):\n",
      "\u001b[36mFile \u001b[39m\u001b[32m~\\AppData\\Roaming\\Python\\Python313\\site-packages\\pandas\\core\\groupby\\grouper.py:1043\u001b[39m, in \u001b[36mget_grouper\u001b[39m\u001b[34m(obj, key, axis, level, sort, observed, validate, dropna)\u001b[39m\n\u001b[32m   1041\u001b[39m         in_axis, level, gpr = \u001b[38;5;28;01mFalse\u001b[39;00m, gpr, \u001b[38;5;28;01mNone\u001b[39;00m\n\u001b[32m   1042\u001b[39m     \u001b[38;5;28;01melse\u001b[39;00m:\n\u001b[32m-> \u001b[39m\u001b[32m1043\u001b[39m         \u001b[38;5;28;01mraise\u001b[39;00m \u001b[38;5;167;01mKeyError\u001b[39;00m(gpr)\n\u001b[32m   1044\u001b[39m \u001b[38;5;28;01melif\u001b[39;00m \u001b[38;5;28misinstance\u001b[39m(gpr, Grouper) \u001b[38;5;129;01mand\u001b[39;00m gpr.key \u001b[38;5;129;01mis\u001b[39;00m \u001b[38;5;129;01mnot\u001b[39;00m \u001b[38;5;28;01mNone\u001b[39;00m:\n\u001b[32m   1045\u001b[39m     \u001b[38;5;66;03m# Add key to exclusions\u001b[39;00m\n\u001b[32m   1046\u001b[39m     exclusions.add(gpr.key)\n",
      "\u001b[31mKeyError\u001b[39m: 'channel'"
     ]
    }
   ],
   "source": [
    "\n",
    "# Ensure timestamps are in datetime format\n",
    "cln_df_touchpoints['touchpoint_timestamp'] = pd.to_datetime(cln_df_touchpoints['touchpoint_timestamp'])\n",
    "cln_df_trans['order_date'] = pd.to_datetime(cln_df_trans['order_date'])\n",
    "\n",
    "# Merge transactions with touchpoints on transaction_id\n",
    "merged = pd.merge(cln_df_trans, cln_df_touchpoints, on='transaction_id', how='left')\n",
    "\n",
    "# Sort touchpoints by timestamp to identify first and last touch\n",
    "merged_sorted = merged.sort_values(by=['customer_id_x', 'touchpoint_timestamp'])\n",
    "\n",
    "# Get first and last touch channel per customer per transaction\n",
    "first_touch = merged_sorted.groupby('transaction_id').first().reset_index()\n",
    "last_touch = merged_sorted.groupby('transaction_id').last().reset_index()\n",
    "\n",
    "# Assign total_amount to first and last touch channels\n",
    "first_touch_revenue = first_touch.groupby('channel')['total_amount'].sum().reset_index()\n",
    "first_touch_revenue.columns = ['channel', 'first_touch_revenue']\n",
    "\n",
    "last_touch_revenue = last_touch.groupby('channel')['total_amount'].sum().reset_index()\n",
    "last_touch_revenue.columns = ['channel', 'last_touch_revenue']\n",
    "\n",
    "# Merge both revenue tables\n",
    "revenue_matrix = pd.merge(first_touch_revenue, last_touch_revenue, on='channel', how='outer')#.fillna(0)\n",
    "\n",
    "# Calculate total revenue for percentage calculations\n",
    "total_revenue = revenue_matrix['first_touch_revenue'].sum()\n",
    "total_revenue_last = revenue_matrix['last_touch_revenue'].sum()\n",
    "\n",
    "# Calculate percentage share\n",
    "revenue_matrix['first_touch_pct'] = (revenue_matrix['first_touch_revenue'] / total_revenue) * 100\n",
    "revenue_matrix['last_touch_pct'] = (revenue_matrix['last_touch_revenue'] / total_revenue_last) * 100\n",
    "\n",
    "# Calculate credit difference\n",
    "revenue_matrix['credit_diff_pct'] = revenue_matrix['last_touch_pct'] - revenue_matrix['first_touch_pct']\n",
    "\n",
    "# Set style\n",
    "sns.set(style=\"whitegrid\")\n",
    "\n",
    "# Plot First Touch %\n",
    "plt.figure(figsize=(10, 6))\n",
    "sns.barplot(data=revenue_matrix.sort_values('first_touch_pct', ascending=False),\n",
    "            x='channel', y='first_touch_pct', palette='Blues_d')\n",
    "plt.title('First Touch Revenue Share (%) by Channel')\n",
    "plt.ylabel('First Touch %')\n",
    "plt.xticks(rotation=45)\n",
    "plt.tight_layout()\n",
    "plt.savefig(\"first_touch_pct_chart.png\")\n",
    "plt.close()\n",
    "\n",
    "# Plot Last Touch %\n",
    "plt.figure(figsize=(10, 6))\n",
    "sns.barplot(data=revenue_matrix.sort_values('last_touch_pct', ascending=False),\n",
    "            x='channel', y='last_touch_pct', palette='Greens_d')\n",
    "plt.title('Last Touch Revenue Share (%) by Channel')\n",
    "plt.ylabel('Last Touch %')\n",
    "plt.xticks(rotation=45)\n",
    "plt.tight_layout()\n",
    "plt.savefig(\"last_touch_pct_chart.png\")\n",
    "plt.close()\n",
    "\n",
    "# Plot Credit Difference %\n",
    "plt.figure(figsize=(10, 6))\n",
    "sns.barplot(data=revenue_matrix.sort_values('credit_diff_pct', ascending=False),\n",
    "            x='channel', y='credit_diff_pct', palette='coolwarm')\n",
    "plt.title('Credit Difference (Last Touch % - First Touch %) by Channel')\n",
    "plt.ylabel('Credit Difference %')\n",
    "plt.xticks(rotation=45)\n",
    "plt.tight_layout()\n",
    "plt.savefig(\"credit_diff_pct_chart.png\")\n",
    "plt.close()"
   ]
  },
  {
   "cell_type": "code",
   "execution_count": 666,
   "id": "5c26b51b",
   "metadata": {},
   "outputs": [],
   "source": [
    "import pandas as pd\n",
    "import seaborn as sns\n",
    "import matplotlib.pyplot as plt\n",
    "\n",
    "# Load the channel revenue attribution matrix\n",
    "df = pd.read_csv(\"channel_revenue_attribution_matrix.csv\")\n",
    "\n",
    "# Set seaborn style\n",
    "sns.set(style=\"whitegrid\")\n",
    "\n",
    "# Create bar plot for First Touch %\n",
    "plt.figure(figsize=(10, 6))\n",
    "sns.barplot(data=df, x=\"channel\", y=\"first_touch_pct\", palette=\"Blues_d\")\n",
    "plt.title(\"First Touch Revenue Share (%) by Channel\")\n",
    "plt.ylabel(\"First Touch %\")\n",
    "plt.xticks(rotation=45)\n",
    "plt.tight_layout()\n",
    "plt.savefig(\"first_touch_pct_seaborn.png\")\n",
    "plt.close()\n",
    "\n",
    "# Create bar plot for Last Touch %\n",
    "plt.figure(figsize=(10, 6))\n",
    "sns.barplot(data=df, x=\"channel\", y=\"last_touch_pct\", palette=\"Greens_d\")\n",
    "plt.title(\"Last Touch Revenue Share (%) by Channel\")\n",
    "plt.ylabel(\"Last Touch %\")\n",
    "plt.xticks(rotation=45)\n",
    "plt.tight_layout()\n",
    "plt.savefig(\"last_touch_pct_seaborn.png\")\n",
    "plt.close()\n",
    "\n",
    "# Create bar plot for Credit Difference %\n",
    "plt.figure(figsize=(10, 6))\n",
    "sns.barplot(data=df, x=\"channel\", y=\"credit_diff_pct\", palette=\"RdBu\")\n",
    "plt.axhline(0, color='gray', linestyle='--')\n",
    "plt.title(\"Credit Difference (%) by Channel (Last - First Touch)\")\n",
    "plt.ylabel(\"Credit Difference %\")\n",
    "plt.xticks(rotation=45)\n",
    "plt.tight_layout()\n",
    "plt.savefig(\"credit_diff_pct_seaborn.png\")\n",
    "plt.close()"
   ]
  }
 ],
 "metadata": {
  "kernelspec": {
   "display_name": "Python 3",
   "language": "python",
   "name": "python3"
  },
  "language_info": {
   "codemirror_mode": {
    "name": "ipython",
    "version": 3
   },
   "file_extension": ".py",
   "mimetype": "text/x-python",
   "name": "python",
   "nbconvert_exporter": "python",
   "pygments_lexer": "ipython3",
   "version": "3.13.7"
  }
 },
 "nbformat": 4,
 "nbformat_minor": 5
}
