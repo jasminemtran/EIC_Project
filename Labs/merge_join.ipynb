{
 "cells": [
  {
   "cell_type": "code",
   "execution_count": 41,
   "id": "21778ebb",
   "metadata": {},
   "outputs": [
    {
     "name": "stdout",
     "output_type": "stream",
     "text": [
      "   customer_id     name\n",
      "0            1    Alice\n",
      "1            2      Bob\n",
      "2            3  Charlie\n",
      "   tx_id  customer_id  amount\n",
      "0    100            1      50\n",
      "1    101            2      75\n",
      "2    102            2      20\n",
      "3    103            4     100\n"
     ]
    }
   ],
   "source": [
    "import pandas as pd\n",
    "# Customer data\n",
    "customers = pd.DataFrame({\"customer_id\":[1,2,3], \"name\":[\"Alice\", \"Bob\", \"Charlie\"]})\n",
    "\n",
    "# Transactions data\n",
    "transactions = pd.DataFrame({\n",
    "    \"tx_id\":[100,101,102,103],\n",
    "     \"customer_id\":[1,2,2,4],\n",
    "     \"amount\":[50,75,20,100]})\n",
    "\n",
    "print(customers)\n",
    "print(transactions)"
   ]
  },
  {
   "cell_type": "code",
   "execution_count": 42,
   "id": "583ca9e5",
   "metadata": {},
   "outputs": [],
   "source": [
    "# Join\n",
    "# inner, left, right, outer\n",
    "\n",
    "merged = pd.merge(customers,transactions,on=\"customer_id\", how=\"inner\")"
   ]
  },
  {
   "cell_type": "code",
   "execution_count": 43,
   "id": "6d83d7b8",
   "metadata": {},
   "outputs": [
    {
     "data": {
      "text/html": [
       "<div>\n",
       "<style scoped>\n",
       "    .dataframe tbody tr th:only-of-type {\n",
       "        vertical-align: middle;\n",
       "    }\n",
       "\n",
       "    .dataframe tbody tr th {\n",
       "        vertical-align: top;\n",
       "    }\n",
       "\n",
       "    .dataframe thead th {\n",
       "        text-align: right;\n",
       "    }\n",
       "</style>\n",
       "<table border=\"1\" class=\"dataframe\">\n",
       "  <thead>\n",
       "    <tr style=\"text-align: right;\">\n",
       "      <th></th>\n",
       "      <th>name</th>\n",
       "      <th>tx_id</th>\n",
       "      <th>amount</th>\n",
       "    </tr>\n",
       "    <tr>\n",
       "      <th>customer_id</th>\n",
       "      <th></th>\n",
       "      <th></th>\n",
       "      <th></th>\n",
       "    </tr>\n",
       "  </thead>\n",
       "  <tbody>\n",
       "    <tr>\n",
       "      <th>1</th>\n",
       "      <td>Alice</td>\n",
       "      <td>100.0</td>\n",
       "      <td>50.0</td>\n",
       "    </tr>\n",
       "    <tr>\n",
       "      <th>2</th>\n",
       "      <td>Bob</td>\n",
       "      <td>101.0</td>\n",
       "      <td>75.0</td>\n",
       "    </tr>\n",
       "    <tr>\n",
       "      <th>2</th>\n",
       "      <td>Bob</td>\n",
       "      <td>102.0</td>\n",
       "      <td>20.0</td>\n",
       "    </tr>\n",
       "    <tr>\n",
       "      <th>3</th>\n",
       "      <td>Charlie</td>\n",
       "      <td>NaN</td>\n",
       "      <td>NaN</td>\n",
       "    </tr>\n",
       "    <tr>\n",
       "      <th>4</th>\n",
       "      <td>NaN</td>\n",
       "      <td>103.0</td>\n",
       "      <td>100.0</td>\n",
       "    </tr>\n",
       "  </tbody>\n",
       "</table>\n",
       "</div>"
      ],
      "text/plain": [
       "                name  tx_id  amount\n",
       "customer_id                        \n",
       "1              Alice  100.0    50.0\n",
       "2                Bob  101.0    75.0\n",
       "2                Bob  102.0    20.0\n",
       "3            Charlie    NaN     NaN\n",
       "4                NaN  103.0   100.0"
      ]
     },
     "execution_count": 43,
     "metadata": {},
     "output_type": "execute_result"
    }
   ],
   "source": [
    "customers_indx = customers.set_index(\"customer_id\")\n",
    "transactions_indx = transactions.set_index(\"customer_id\")\n",
    "\n",
    "customers_indx.join(transactions_indx, how=\"outer\")"
   ]
  },
  {
   "cell_type": "code",
   "execution_count": 44,
   "id": "c1e9a58f",
   "metadata": {},
   "outputs": [],
   "source": [
    "summary = merged.groupby(\"customer_id\")[\"amount\"].sum().reset_index()"
   ]
  },
  {
   "cell_type": "code",
   "execution_count": 48,
   "id": "3439e27d",
   "metadata": {},
   "outputs": [
    {
     "data": {
      "text/plain": [
       "<Axes: xlabel='customer_id', ylabel='amount'>"
      ]
     },
     "execution_count": 48,
     "metadata": {},
     "output_type": "execute_result"
    },
    {
     "data": {
      "image/png": "[encoded data removed]",
      "text/plain": [
       "<Figure size 640x480 with 1 Axes>"
      ]
     },
     "metadata": {},
     "output_type": "display_data"
    }
   ],
   "source": [
    "summary\n",
    "import seaborn as sns\n",
    "sns.barplot(data=summary,x=\"customer_id\",y=\"amount\")\n"
   ]
  }
 ],
 "metadata": {
  "kernelspec": {
   "display_name": "Python 3",
   "language": "python",
   "name": "python3"
  },
  "language_info": {
   "codemirror_mode": {
    "name": "ipython",
    "version": 3
   },
   "file_extension": ".py",
   "mimetype": "text/x-python",
   "name": "python",
   "nbconvert_exporter": "python",
   "pygments_lexer": "ipython3",
   "version": "3.13.7"
  }
 },
 "nbformat": 4,
 "nbformat_minor": 5
}
